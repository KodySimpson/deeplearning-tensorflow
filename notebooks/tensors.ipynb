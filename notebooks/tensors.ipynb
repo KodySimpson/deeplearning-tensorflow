{
  "nbformat": 4,
  "nbformat_minor": 0,
  "metadata": {
    "colab": {
      "provenance": []
    },
    "kernelspec": {
      "name": "python3",
      "display_name": "Python 3"
    },
    "language_info": {
      "name": "python"
    }
  },
  "cells": [
    {
      "cell_type": "code",
      "execution_count": null,
      "metadata": {
        "colab": {
          "base_uri": "https://localhost:8080/"
        },
        "id": "xIFJuTNY2dl9",
        "outputId": "69807f50-4636-4a89-9f71-15c669742951"
      },
      "outputs": [
        {
          "output_type": "stream",
          "name": "stdout",
          "text": [
            "tf.Tensor(3.0, shape=(), dtype=float32)\n",
            "tf.Tensor([1 2 3], shape=(3,), dtype=int32)\n",
            "tf.Tensor(\n",
            "[[1 2 3]\n",
            " [3 4 5]], shape=(2, 3), dtype=int32)\n",
            "tf.Tensor(\n",
            "[[[1 2]\n",
            "  [3 4]]\n",
            "\n",
            " [[5 6]\n",
            "  [7 8]]], shape=(2, 2, 2), dtype=int32)\n"
          ]
        }
      ],
      "source": [
        "import tensorflow as tf\n",
        "\n",
        "# scalar: rank 0 (dimensions or axis)\n",
        "scalar = tf.constant(3, dtype=tf.float32)\n",
        "print(scalar)\n",
        "\n",
        "# vector: rank 1\n",
        "vector = tf.constant([1, 2, 3])\n",
        "print(vector)\n",
        "\n",
        "# matrix (rank 2)\n",
        "matrix = tf.constant([[1, 2, 3], [3, 4, 5]])\n",
        "print(matrix)\n",
        "\n",
        "# RGB images\n",
        "tensor = tf.constant([\n",
        "    [[1, 2], [3, 4]],\n",
        "    [[5, 6], [7, 8]]\n",
        "])\n",
        "print(tensor)"
      ]
    },
    {
      "cell_type": "code",
      "source": [
        "import numpy as np\n",
        "\n",
        "scores = np.array([1, 2, 3])\n",
        "print(scores)\n",
        "\n",
        "tensor = tf.constant(scores, dtype=tf.float32)\n",
        "print(tensor)\n",
        "\n",
        "print(tensor.numpy())"
      ],
      "metadata": {
        "colab": {
          "base_uri": "https://localhost:8080/"
        },
        "id": "WC2BhpDG-zZO",
        "outputId": "85c258fa-0ded-4165-ca15-83615c44b70f"
      },
      "execution_count": null,
      "outputs": [
        {
          "output_type": "stream",
          "name": "stdout",
          "text": [
            "[1 2 3]\n",
            "tf.Tensor([1. 2. 3.], shape=(3,), dtype=float32)\n",
            "[1. 2. 3.]\n"
          ]
        }
      ]
    },
    {
      "cell_type": "code",
      "source": [
        "# more ways of generating tensors\n",
        "tensor = tf.zeros(shape=(2, 3))\n",
        "print(tensor)\n",
        "\n",
        "tensor = tf.ones(shape=(3, 2))\n",
        "print(tensor)\n",
        "\n",
        "tensor = tf.fill(dims=(4, 4), value=5.4)\n",
        "print(tensor)"
      ],
      "metadata": {
        "colab": {
          "base_uri": "https://localhost:8080/"
        },
        "id": "GSOfjZou_7KT",
        "outputId": "c8ac7793-0d6a-4228-fa78-a01af96285f1"
      },
      "execution_count": null,
      "outputs": [
        {
          "output_type": "stream",
          "name": "stdout",
          "text": [
            "tf.Tensor(\n",
            "[[0. 0. 0.]\n",
            " [0. 0. 0.]], shape=(2, 3), dtype=float32)\n",
            "tf.Tensor(\n",
            "[[1. 1.]\n",
            " [1. 1.]\n",
            " [1. 1.]], shape=(3, 2), dtype=float32)\n",
            "tf.Tensor(\n",
            "[[5.4 5.4 5.4 5.4]\n",
            " [5.4 5.4 5.4 5.4]\n",
            " [5.4 5.4 5.4 5.4]\n",
            " [5.4 5.4 5.4 5.4]], shape=(4, 4), dtype=float32)\n"
          ]
        }
      ]
    },
    {
      "cell_type": "code",
      "source": [
        "# Generating random tensors\n",
        "random_tensor = tf.random.normal(shape=(3, 2))\n",
        "print(random_tensor)\n",
        "\n",
        "tf.random.uniform(shape=(2, 3), minval=0, maxval=1)"
      ],
      "metadata": {
        "colab": {
          "base_uri": "https://localhost:8080/"
        },
        "id": "CL9s2heTAs2f",
        "outputId": "2523f0f6-0500-44e3-f7ae-d0b14afa832f"
      },
      "execution_count": null,
      "outputs": [
        {
          "output_type": "stream",
          "name": "stdout",
          "text": [
            "tf.Tensor(\n",
            "[[-1.546566  -1.0661956]\n",
            " [-0.5551627  1.3533537]\n",
            " [-1.723057   0.5379029]], shape=(3, 2), dtype=float32)\n"
          ]
        },
        {
          "output_type": "execute_result",
          "data": {
            "text/plain": [
              "<tf.Tensor: shape=(2, 3), dtype=float32, numpy=\n",
              "array([[0.50391066, 0.5950817 , 0.488055  ],\n",
              "       [0.51936257, 0.07977509, 0.2538581 ]], dtype=float32)>"
            ]
          },
          "metadata": {},
          "execution_count": 24
        }
      ]
    },
    {
      "cell_type": "code",
      "source": [
        "# math operations\n",
        "a = tf.constant([1, 2, 3], dtype=tf.float32)\n",
        "b = tf.constant([4, 5, 6], dtype=tf.float32)\n",
        "\n",
        "# add\n",
        "c = tf.add(a, b)\n",
        "c\n",
        "\n",
        "c = tf.subtract(a, b)\n",
        "c\n",
        "\n",
        "# element-wise multiplication\n",
        "c = tf.multiply(a, b)\n",
        "c\n",
        "\n",
        "# Matrix Multiplication (dot product)\n",
        "a = tf.constant([[1, 2], [3, 4]], dtype=tf.float32)\n",
        "b = tf.constant([[5, 6], [7, 8]], dtype=tf.float32)\n",
        "c = tf.matmul(a, b)\n",
        "print(c.numpy())"
      ],
      "metadata": {
        "colab": {
          "base_uri": "https://localhost:8080/"
        },
        "id": "wPJ4j0mGA9uW",
        "outputId": "fe1971f9-38e4-46ad-a375-549e7c553464"
      },
      "execution_count": null,
      "outputs": [
        {
          "output_type": "stream",
          "name": "stdout",
          "text": [
            "[[19. 22.]\n",
            " [43. 50.]]\n"
          ]
        }
      ]
    },
    {
      "cell_type": "code",
      "source": [
        "# accessing elements of a tensor\n",
        "tensor = tf.constant([[1, 2], [3, 4], [5, 6]], dtype=tf.float32)\n",
        "tensor.shape\n",
        "\n",
        "print(tensor[:, 1])"
      ],
      "metadata": {
        "colab": {
          "base_uri": "https://localhost:8080/"
        },
        "id": "OMY5O_BiCHEk",
        "outputId": "45e94249-c58c-46b5-b5e8-95403b72e1b2"
      },
      "execution_count": null,
      "outputs": [
        {
          "output_type": "stream",
          "name": "stdout",
          "text": [
            "tf.Tensor([2. 4. 6.], shape=(3,), dtype=float32)\n"
          ]
        }
      ]
    },
    {
      "cell_type": "code",
      "source": [
        "# Reshape tensors\n",
        "tensor = tf.constant([[1, 2], [3, 4], [5, 6]], dtype=tf.float32)\n",
        "print(tensor.shape)\n",
        "\n",
        "# reshape to (2, 3)\n",
        "reshaped_tensor = tf.reshape(tensor, shape=(2, 3))\n",
        "print(reshaped_tensor)\n",
        "\n",
        "vector = tf.constant([1, 2, 3], dtype=tf.float32)\n",
        "print(vector.shape)\n",
        "matrix = tf.reshape(vector, shape=(3, 1))\n",
        "print(matrix)"
      ],
      "metadata": {
        "colab": {
          "base_uri": "https://localhost:8080/"
        },
        "id": "t885yWqUCq3j",
        "outputId": "936ebc16-f128-4d98-bf7e-f028fa7e77e2"
      },
      "execution_count": null,
      "outputs": [
        {
          "output_type": "stream",
          "name": "stdout",
          "text": [
            "(3, 2)\n",
            "tf.Tensor(\n",
            "[[1. 2. 3.]\n",
            " [4. 5. 6.]], shape=(2, 3), dtype=float32)\n",
            "(3,)\n",
            "tf.Tensor(\n",
            "[[1.]\n",
            " [2.]\n",
            " [3.]], shape=(3, 1), dtype=float32)\n"
          ]
        }
      ]
    }
  ]
}