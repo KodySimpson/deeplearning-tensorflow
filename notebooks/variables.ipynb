{
  "nbformat": 4,
  "nbformat_minor": 0,
  "metadata": {
    "colab": {
      "provenance": []
    },
    "kernelspec": {
      "name": "python3",
      "display_name": "Python 3"
    },
    "language_info": {
      "name": "python"
    }
  },
  "cells": [
    {
      "cell_type": "code",
      "execution_count": null,
      "metadata": {
        "colab": {
          "base_uri": "https://localhost:8080/"
        },
        "id": "IFBvI6wDXbB8",
        "outputId": "ad455581-d722-4427-c8a0-0750f588a356"
      },
      "outputs": [
        {
          "output_type": "stream",
          "name": "stdout",
          "text": [
            "(3,)\n",
            "<dtype: 'float32'>\n",
            "[1. 2. 3.]\n"
          ]
        }
      ],
      "source": [
        "import tensorflow as tf\n",
        "\n",
        "v = tf.Variable(0, dtype=tf.float32)\n",
        "\n",
        "tensor_variable = tf.Variable(tf.constant([1, 2, 3], dtype=tf.float32))\n",
        "\n",
        "print(tensor_variable.shape)\n",
        "print(tensor_variable.dtype)\n",
        "print(tensor_variable.numpy())"
      ]
    },
    {
      "cell_type": "code",
      "source": [
        "# Updating variables\n",
        "print(v.numpy())\n",
        "v.assign_sub(5)\n",
        "print(v.numpy())\n",
        "\n",
        "tensor_variable.assign_add([10, 20, 30])\n",
        "print(tensor_variable.numpy)"
      ],
      "metadata": {
        "colab": {
          "base_uri": "https://localhost:8080/"
        },
        "id": "iYZx1YngZqWf",
        "outputId": "8f7ed93f-8a0b-426f-e389-6a82accbcd47"
      },
      "execution_count": null,
      "outputs": [
        {
          "output_type": "stream",
          "name": "stdout",
          "text": [
            "-5.0\n",
            "-10.0\n",
            "<bound method BaseResourceVariable.numpy of <tf.Variable 'Variable:0' shape=(3,) dtype=float32, numpy=array([21., 42., 63.], dtype=float32)>>\n"
          ]
        }
      ]
    },
    {
      "cell_type": "markdown",
      "source": [
        "## Automatic differentiation\n",
        "We are going to perform the equivalent of the following math operation:\n",
        "$$\n",
        "y = x^2\n",
        "$$\n",
        "\n",
        "The derivative of the above function is:\n",
        "$$\n",
        "\\frac{dy}{dx} = 2x\n",
        "$$\n"
      ],
      "metadata": {
        "id": "5d2ejX11atKV"
      }
    },
    {
      "cell_type": "code",
      "source": [
        "x = tf.Variable(3.0)\n",
        "\n",
        "with tf.GradientTape() as tape:\n",
        "  y = x**2\n",
        "\n",
        "# Calculate the partial derivative of y with regard to x(Gradient)\n",
        "dy_dx = tape.gradient(y, x)\n",
        "print(dy_dx)"
      ],
      "metadata": {
        "colab": {
          "base_uri": "https://localhost:8080/"
        },
        "id": "gpnt0wvZa-PF",
        "outputId": "3135ffc1-ca7b-48b4-991a-2969f47dcbb7"
      },
      "execution_count": null,
      "outputs": [
        {
          "output_type": "stream",
          "name": "stdout",
          "text": [
            "tf.Tensor(6.0, shape=(), dtype=float32)\n"
          ]
        }
      ]
    },
    {
      "cell_type": "markdown",
      "source": [
        "A multi-variable example:\n",
        "$$\n",
        "z = 4x^2 + y^3\n",
        "$$\n",
        "\n",
        "The partial derivatives of the above function are:\n",
        "$$\n",
        "\\frac{dz}{dx} = 8x\n",
        "$$\n",
        "\n",
        "$$\n",
        "\\frac{dz}{dy} = 3y^2\n",
        "$$\n"
      ],
      "metadata": {
        "id": "hWTh1KTKdIzt"
      }
    },
    {
      "cell_type": "code",
      "source": [
        "x = tf.Variable(3.0)\n",
        "y = tf.Variable(4.0, trainable=False)\n",
        "\n",
        "with tf.GradientTape() as tape:\n",
        "  z = 4*x**2 + y**3\n",
        "\n",
        "# calc the gradient of z\n",
        "gradient = tape.gradient(z, [x, y])\n",
        "\n",
        "print(gradient)"
      ],
      "metadata": {
        "colab": {
          "base_uri": "https://localhost:8080/"
        },
        "id": "WKMgyZ34dF9Q",
        "outputId": "c913390f-77b1-434f-823f-e78170f78b69"
      },
      "execution_count": null,
      "outputs": [
        {
          "output_type": "stream",
          "name": "stdout",
          "text": [
            "[<tf.Tensor: shape=(), dtype=float32, numpy=24.0>, None]\n"
          ]
        }
      ]
    }
  ]
}